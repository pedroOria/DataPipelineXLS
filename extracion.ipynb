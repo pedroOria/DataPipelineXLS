{
 "cells": [
  {
   "cell_type": "code",
   "execution_count": 2,
   "metadata": {},
   "outputs": [],
   "source": [
    "DB_CONFIG = {\n",
    "    \"dbname\": \"FAST_API\",\n",
    "    \"user\": \"postgres\",\n",
    "    \"password\": \"232629oria\",\n",
    "    \"host\": \"localhost\",\n",
    "    \"port\": \"5432\",\n",
    "}"
   ]
  },
  {
   "cell_type": "code",
   "execution_count": 3,
   "metadata": {},
   "outputs": [],
   "source": [
    "# Consulta SQL que extraerá los datos\n",
    "QUERY = \"\"\"SELECT * FROM alert_levels WHERE SALDO >= 50000;\"\"\"\n",
    "\n",
    "# Nombre del archivo de salida\n",
    "#CSV_FILENAME = \"data_export.csv\"\n",
    "EXCEL_FILENAME = \"data_export.xlsx\""
   ]
  },
  {
   "cell_type": "code",
   "execution_count": null,
   "metadata": {},
   "outputs": [],
   "source": [
    "import pandas as pd\n",
    "pd.read_sql"
   ]
  },
  {
   "cell_type": "markdown",
   "metadata": {},
   "source": [
    "# INTERVALOS REGULADOS"
   ]
  },
  {
   "cell_type": "code",
   "execution_count": null,
   "metadata": {},
   "outputs": [
    {
     "name": "stdout",
     "output_type": "stream",
     "text": [
      "Iniciando la ejecución programada...\n",
      "Conectando a la base de datos...\n"
     ]
    },
    {
     "name": "stderr",
     "output_type": "stream",
     "text": [
      "C:\\Users\\Arena Gaming\\AppData\\Local\\Temp\\ipykernel_15532\\1542368069.py:25: UserWarning: pandas only supports SQLAlchemy connectable (engine/connection) or database string URI or sqlite3 DBAPI2 connection. Other DBAPI2 objects are not tested. Please consider using SQLAlchemy.\n",
      "  df = pd.read_sql(QUERY, conn)\n"
     ]
    },
    {
     "name": "stdout",
     "output_type": "stream",
     "text": [
      "Datos exportados correctamente en: data_export.xlsx\n"
     ]
    }
   ],
   "source": [
    "import psycopg2\n",
    "import pandas as pd\n",
    "import schedule\n",
    "import time\n",
    "\n",
    "# Configuración de la conexión a PostgreSQL\n",
    "DB_CONFIG = {\n",
    "    \"dbname\": \"FAST_API\",\n",
    "    \"user\": \"postgres\",\n",
    "    \"password\": \"232629oria\",\n",
    "    \"host\": \"localhost\",\n",
    "    \"port\": \"5432\",\n",
    "}\n",
    "\n",
    "# Consulta SQL que extraerá los datos\n",
    "QUERY = \"SELECT * FROM alert_levels;\"\n",
    "\n",
    "# Nombre del archivo de salida en Excel\n",
    "EXCEL_FILENAME = \"data_export.xlsx\"\n",
    "\n",
    "def export_data():\n",
    "    try:\n",
    "        print(\"Conectando a la base de datos...\")\n",
    "        conn = psycopg2.connect(**DB_CONFIG)\n",
    "        df = pd.read_sql(QUERY, conn)\n",
    "        \n",
    "        # Guardar en Excel\n",
    "        df.to_excel(EXCEL_FILENAME, index=False, engine=\"openpyxl\")\n",
    "\n",
    "        print(f\"Datos exportados correctamente en: {EXCEL_FILENAME}\")\n",
    "\n",
    "    except Exception as e:\n",
    "        print(f\"Error al extraer los datos: {e}\")\n",
    "\n",
    "    finally:\n",
    "        if conn:\n",
    "            conn.close()\n",
    "\n",
    "# Ejecutar manualmente la extracción\n",
    "schedule.every(24).hour.do(export_data)\n",
    "\n",
    "print(\"Iniciando la ejecución programada...\")\n",
    "\n",
    "while True:\n",
    "    schedule.run_pending()\n",
    "    time.sleep(60)  # Verifica cada minuto si hay tareas pendientes"
   ]
  },
  {
   "cell_type": "code",
   "execution_count": 5,
   "metadata": {},
   "outputs": [
    {
     "name": "stderr",
     "output_type": "stream",
     "text": [
      "C:\\Users\\Arena Gaming\\AppData\\Local\\Temp\\ipykernel_12748\\3227759123.py:20: UserWarning: pandas only supports SQLAlchemy connectable (engine/connection) or database string URI or sqlite3 DBAPI2 connection. Other DBAPI2 objects are not tested. Please consider using SQLAlchemy.\n",
      "  df = pd.read_sql(QUERY, conn)\n"
     ]
    },
    {
     "name": "stdout",
     "output_type": "stream",
     "text": [
      "Your browser has been opened to visit:\n",
      "\n",
      "    https://accounts.google.com/o/oauth2/auth?client_id=234340069058-scnm45mhgmiirjh43hrh6h3kejabteoc.apps.googleusercontent.com&redirect_uri=http%3A%2F%2Flocalhost%3A8080%2F&scope=https%3A%2F%2Fwww.googleapis.com%2Fauth%2Fdrive&access_type=offline&response_type=code\n",
      "\n",
      "Authentication successful.\n",
      "[INFO] Archivo data_export_2025-02-14.xlsx subido correctamente a la carpeta 'test' en Google Drive.\n"
     ]
    }
   ],
   "source": [
    "import pandas as pd\n",
    "import psycopg2\n",
    "import datetime\n",
    "from pydrive.auth import GoogleAuth\n",
    "from pydrive.drive import GoogleDrive\n",
    "\n",
    "# 🔹 Configuración de PostgreSQL\n",
    "DB_CONFIG = {\n",
    "    \"dbname\": \"FAST_API\",\n",
    "    \"user\": \"postgres\",\n",
    "    \"password\": \"232629oria\",\n",
    "    \"host\": \"localhost\",\n",
    "    \"port\": \"5432\",\n",
    "}\n",
    "\n",
    "QUERY = \"SELECT * FROM alert_levels;\"\n",
    "\n",
    "# 🔹 Conexión y extracción de datos\n",
    "conn = psycopg2.connect(**DB_CONFIG)\n",
    "df = pd.read_sql(QUERY, conn)\n",
    "conn.close()\n",
    "\n",
    "\n",
    "timestamp = datetime.datetime.now().strftime(\"%Y-%m-%d\")\n",
    "filename = f\"data_export_{timestamp}.xlsx\"\n",
    "\n",
    "df.to_excel(filename, index=False, engine=\"openpyxl\")\n",
    "\n",
    "\n",
    "# 🔹 Autenticación con Google Drive\n",
    "gauth = GoogleAuth()\n",
    "gauth.LoadClientConfigFile(\"client_secrets.json\")  # Carga las credenciales\n",
    "gauth.LocalWebserverAuth()  # Se abrirá una ventana para autenticarte\n",
    "\n",
    "drive = GoogleDrive(gauth)\n",
    "\n",
    "folder_id = \"1ZwkL67usiL3nRjMJIL5cad3Q0rtgYkes\"\n",
    "\n",
    "\n",
    "file_drive = drive.CreateFile({\n",
    "    \"title\": filename,\n",
    "    \"parents\": [{\"id\": folder_id}]  # 🔹 Subir dentro de la carpeta \"test\"\n",
    "})\n",
    "file_drive.SetContentFile(filename)\n",
    "file_drive.Upload()\n",
    "\n",
    "print(f\"[INFO] Archivo {filename} subido correctamente a la carpeta 'test' en Google Drive.\")"
   ]
  },
  {
   "cell_type": "code",
   "execution_count": null,
   "metadata": {},
   "outputs": [
    {
     "name": "stderr",
     "output_type": "stream",
     "text": [
      "C:\\Users\\Arena Gaming\\AppData\\Local\\Temp\\ipykernel_12016\\3664904866.py:21: UserWarning: pandas only supports SQLAlchemy connectable (engine/connection) or database string URI or sqlite3 DBAPI2 connection. Other DBAPI2 objects are not tested. Please consider using SQLAlchemy.\n",
      "  df = pd.read_sql(QUERY, conn)\n"
     ]
    },
    {
     "name": "stdout",
     "output_type": "stream",
     "text": [
      "Your browser has been opened to visit:\n",
      "\n",
      "    https://accounts.google.com/o/oauth2/auth?client_id=234340069058-scnm45mhgmiirjh43hrh6h3kejabteoc.apps.googleusercontent.com&redirect_uri=http%3A%2F%2Flocalhost%3A8080%2F&scope=https%3A%2F%2Fwww.googleapis.com%2Fauth%2Fdrive&access_type=offline&response_type=code\n",
      "\n",
      "Authentication successful.\n",
      "[INFO] Subiendo nuevo archivo data_export_2025-02-14.xlsx a Google Drive.\n"
     ]
    },
    {
     "ename": "PermissionError",
     "evalue": "[WinError 32] El proceso no tiene acceso al archivo porque está siendo utilizado por otro proceso: 'data_export_2025-02-14.xlsx'",
     "output_type": "error",
     "traceback": [
      "\u001b[1;31m---------------------------------------------------------------------------\u001b[0m",
      "\u001b[1;31mPermissionError\u001b[0m                           Traceback (most recent call last)",
      "Cell \u001b[1;32mIn[8], line 51\u001b[0m\n\u001b[0;32m     48\u001b[0m file_drive\u001b[38;5;241m.\u001b[39mUpload()\n\u001b[0;32m     50\u001b[0m \u001b[38;5;66;03m# 🔹 Eliminar el archivo local\u001b[39;00m\n\u001b[1;32m---> 51\u001b[0m \u001b[43mos\u001b[49m\u001b[38;5;241;43m.\u001b[39;49m\u001b[43mremove\u001b[49m\u001b[43m(\u001b[49m\u001b[43mfilename\u001b[49m\u001b[43m)\u001b[49m\n\u001b[0;32m     52\u001b[0m \u001b[38;5;28mprint\u001b[39m(\u001b[38;5;124mf\u001b[39m\u001b[38;5;124m\"\u001b[39m\u001b[38;5;124m[INFO] Archivo \u001b[39m\u001b[38;5;132;01m{\u001b[39;00mfilename\u001b[38;5;132;01m}\u001b[39;00m\u001b[38;5;124m eliminado del sistema local.\u001b[39m\u001b[38;5;124m\"\u001b[39m)\n",
      "\u001b[1;31mPermissionError\u001b[0m: [WinError 32] El proceso no tiene acceso al archivo porque está siendo utilizado por otro proceso: 'data_export_2025-02-14.xlsx'"
     ]
    }
   ],
   "source": [
    "import pandas as pd\n",
    "import psycopg2\n",
    "import datetime\n",
    "from pydrive.auth import GoogleAuth\n",
    "from pydrive.drive import GoogleDrive\n",
    "import os\n",
    "\n",
    "# 🔹 Configuración de PostgreSQL\n",
    "DB_CONFIG = {\n",
    "    \"dbname\": \"FAST_API\",\n",
    "    \"user\": \"postgres\",\n",
    "    \"password\": \"232629oria\",\n",
    "    \"host\": \"localhost\",\n",
    "    \"port\": \"5432\",\n",
    "}\n",
    "\n",
    "QUERY = \"SELECT * FROM alert_levels;\"\n",
    "\n",
    "# 🔹 Conexión y extracción de datos\n",
    "conn = psycopg2.connect(**DB_CONFIG)\n",
    "df = pd.read_sql(QUERY, conn)\n",
    "conn.close()\n",
    "\n",
    "# 🔹 Generar nombre de archivo con fecha\n",
    "timestamp = datetime.datetime.now().strftime(\"%Y-%m-%d\")\n",
    "filename = f\"data_export_{timestamp}.xlsx\"\n",
    "df.to_excel(filename, index=False, engine=\"openpyxl\")\n",
    "\n",
    "# 🔹 Autenticación con Google Drive\n",
    "gauth = GoogleAuth()\n",
    "gauth.LocalWebserverAuth()\n",
    "drive = GoogleDrive(gauth)\n",
    "\n",
    "folder_id = \"1ZwkL67usiL3nRjMJIL5cad3Q0rtgYkes\"\n",
    "\n",
    "# 🔹 Buscar si el archivo ya existe en Google Drive\n",
    "file_list = drive.ListFile({'q': f\"'{folder_id}' in parents and title='{filename}'\"}).GetList()\n",
    "\n",
    "if file_list:\n",
    "    file_drive = file_list[0]  # Tomar el archivo existente\n",
    "    print(f\"[INFO] Archivo {filename} ya existe en Drive. Se actualizará.\")\n",
    "else:\n",
    "    file_drive = drive.CreateFile({\"title\": filename, \"parents\": [{\"id\": folder_id}]})\n",
    "    print(f\"[INFO] Subiendo nuevo archivo {filename} a Google Drive.\")\n",
    "\n",
    "# 🔹 Subir o actualizar archivo en Google Drive\n",
    "\n",
    "file_drive.SetContentFile(filename)\n",
    "file_drive.Upload()\n",
    "\n",
    "# 🔹 Eliminar el archivo local\n",
    "os.remove(filename)\n",
    "print(f\"[INFO] Archivo {filename} eliminado del sistema local.\")\n"
   ]
  },
  {
   "cell_type": "code",
   "execution_count": 2,
   "metadata": {},
   "outputs": [
    {
     "name": "stderr",
     "output_type": "stream",
     "text": [
      "C:\\Users\\Arena Gaming\\AppData\\Local\\Temp\\ipykernel_11044\\2051291860.py:19: UserWarning: pandas only supports SQLAlchemy connectable (engine/connection) or database string URI or sqlite3 DBAPI2 connection. Other DBAPI2 objects are not tested. Please consider using SQLAlchemy.\n",
      "  df = pd.read_sql(QUERY, conn)\n"
     ]
    }
   ],
   "source": [
    "import pandas as pd\n",
    "import psycopg2\n",
    "import datetime\n",
    "\n",
    "\n",
    "# 🔹 Configuración de PostgreSQL\n",
    "DB_CONFIG = {\n",
    "    \"dbname\": \"FAST_API\",\n",
    "    \"user\": \"postgres\",\n",
    "    \"password\": \"232629oria\",\n",
    "    \"host\": \"localhost\",\n",
    "    \"port\": \"5432\",\n",
    "}\n",
    "\n",
    "QUERY = \"SELECT * FROM alert_levels;\"\n",
    "\n",
    "# 🔹 Conexión y extracción de datos\n",
    "conn = psycopg2.connect(**DB_CONFIG)\n",
    "df = pd.read_sql(QUERY, conn)\n",
    "conn.close()\n",
    "\n",
    "# 🔹 Generar nombre de archivo con fecha\n",
    "timestamp = datetime.datetime.now().strftime(\"%Y-%m-%d\")\n",
    "filename = f\"data_export_{timestamp}.xlsx\"\n",
    "df.to_excel(filename, index=False, engine=\"openpyxl\")"
   ]
  },
  {
   "cell_type": "code",
   "execution_count": null,
   "metadata": {},
   "outputs": [],
   "source": [
    "folder_id = \"1ZwkL67usiL3nRjMJIL5cad3Q0rtgYkes\"\n",
    "\n",
    "file_drive = drive.CreateFile({\"title\": filename, \"parents\": [{\"id\": folder_id}]})\n",
    "file_drive.SetContentFile(filename)\n",
    "file_drive.Upload()"
   ]
  },
  {
   "cell_type": "code",
   "execution_count": 7,
   "metadata": {},
   "outputs": [
    {
     "ename": "KeyError",
     "evalue": "'_module'",
     "output_type": "error",
     "traceback": [
      "\u001b[1;31m---------------------------------------------------------------------------\u001b[0m",
      "\u001b[1;31mKeyError\u001b[0m                                  Traceback (most recent call last)",
      "Cell \u001b[1;32mIn[7], line 6\u001b[0m\n\u001b[0;32m      2\u001b[0m \u001b[38;5;28;01mfrom\u001b[39;00m \u001b[38;5;21;01mpydrive\u001b[39;00m\u001b[38;5;21;01m.\u001b[39;00m\u001b[38;5;21;01mauth\u001b[39;00m \u001b[38;5;28;01mimport\u001b[39;00m GoogleAuth\n\u001b[0;32m      5\u001b[0m gauth \u001b[38;5;241m=\u001b[39m GoogleAuth()\n\u001b[1;32m----> 6\u001b[0m \u001b[43mgauth\u001b[49m\u001b[38;5;241;43m.\u001b[39;49m\u001b[43mLoadCredentialsFile\u001b[49m\u001b[43m(\u001b[49m\u001b[38;5;124;43m\"\u001b[39;49m\u001b[38;5;124;43mclient_secrets.json\u001b[39;49m\u001b[38;5;124;43m\"\u001b[39;49m\u001b[43m)\u001b[49m\n\u001b[0;32m      7\u001b[0m drive \u001b[38;5;241m=\u001b[39m GoogleDrive(gauth)\n\u001b[0;32m      9\u001b[0m folder_id \u001b[38;5;241m=\u001b[39m \u001b[38;5;124m\"\u001b[39m\u001b[38;5;124m1ZwkL67usiL3nRjMJIL5cad3Q0rtgYkes\u001b[39m\u001b[38;5;124m\"\u001b[39m\n",
      "File \u001b[1;32mc:\\Users\\Arena Gaming\\AppData\\Local\\Programs\\Python\\Python311\\Lib\\site-packages\\pydrive\\auth.py:308\u001b[0m, in \u001b[0;36mGoogleAuth.LoadCredentialsFile\u001b[1;34m(self, credentials_file)\u001b[0m\n\u001b[0;32m    306\u001b[0m \u001b[38;5;28;01mtry\u001b[39;00m:\n\u001b[0;32m    307\u001b[0m   storage \u001b[38;5;241m=\u001b[39m Storage(credentials_file)\n\u001b[1;32m--> 308\u001b[0m   \u001b[38;5;28mself\u001b[39m\u001b[38;5;241m.\u001b[39mcredentials \u001b[38;5;241m=\u001b[39m \u001b[43mstorage\u001b[49m\u001b[38;5;241;43m.\u001b[39;49m\u001b[43mget\u001b[49m\u001b[43m(\u001b[49m\u001b[43m)\u001b[49m\n\u001b[0;32m    309\u001b[0m \u001b[38;5;28;01mexcept\u001b[39;00m \u001b[38;5;167;01mIOError\u001b[39;00m:\n\u001b[0;32m    310\u001b[0m   \u001b[38;5;28;01mraise\u001b[39;00m InvalidCredentialsError(\u001b[38;5;124m'\u001b[39m\u001b[38;5;124mCredentials file cannot be symbolic link\u001b[39m\u001b[38;5;124m'\u001b[39m)\n",
      "File \u001b[1;32mc:\\Users\\Arena Gaming\\AppData\\Local\\Programs\\Python\\Python311\\Lib\\site-packages\\oauth2client\\client.py:407\u001b[0m, in \u001b[0;36mStorage.get\u001b[1;34m(self)\u001b[0m\n\u001b[0;32m    405\u001b[0m \u001b[38;5;28mself\u001b[39m\u001b[38;5;241m.\u001b[39macquire_lock()\n\u001b[0;32m    406\u001b[0m \u001b[38;5;28;01mtry\u001b[39;00m:\n\u001b[1;32m--> 407\u001b[0m     \u001b[38;5;28;01mreturn\u001b[39;00m \u001b[38;5;28;43mself\u001b[39;49m\u001b[38;5;241;43m.\u001b[39;49m\u001b[43mlocked_get\u001b[49m\u001b[43m(\u001b[49m\u001b[43m)\u001b[49m\n\u001b[0;32m    408\u001b[0m \u001b[38;5;28;01mfinally\u001b[39;00m:\n\u001b[0;32m    409\u001b[0m     \u001b[38;5;28mself\u001b[39m\u001b[38;5;241m.\u001b[39mrelease_lock()\n",
      "File \u001b[1;32mc:\\Users\\Arena Gaming\\AppData\\Local\\Programs\\Python\\Python311\\Lib\\site-packages\\oauth2client\\file.py:54\u001b[0m, in \u001b[0;36mStorage.locked_get\u001b[1;34m(self)\u001b[0m\n\u001b[0;32m     51\u001b[0m     \u001b[38;5;28;01mreturn\u001b[39;00m credentials\n\u001b[0;32m     53\u001b[0m \u001b[38;5;28;01mtry\u001b[39;00m:\n\u001b[1;32m---> 54\u001b[0m     credentials \u001b[38;5;241m=\u001b[39m \u001b[43mclient\u001b[49m\u001b[38;5;241;43m.\u001b[39;49m\u001b[43mCredentials\u001b[49m\u001b[38;5;241;43m.\u001b[39;49m\u001b[43mnew_from_json\u001b[49m\u001b[43m(\u001b[49m\u001b[43mcontent\u001b[49m\u001b[43m)\u001b[49m\n\u001b[0;32m     55\u001b[0m     credentials\u001b[38;5;241m.\u001b[39mset_store(\u001b[38;5;28mself\u001b[39m)\n\u001b[0;32m     56\u001b[0m \u001b[38;5;28;01mexcept\u001b[39;00m \u001b[38;5;167;01mValueError\u001b[39;00m:\n",
      "File \u001b[1;32mc:\\Users\\Arena Gaming\\AppData\\Local\\Programs\\Python\\Python311\\Lib\\site-packages\\oauth2client\\client.py:302\u001b[0m, in \u001b[0;36mCredentials.new_from_json\u001b[1;34m(cls, json_data)\u001b[0m\n\u001b[0;32m    299\u001b[0m data \u001b[38;5;241m=\u001b[39m json\u001b[38;5;241m.\u001b[39mloads(json_data_as_unicode)\n\u001b[0;32m    300\u001b[0m \u001b[38;5;66;03m# Find and call the right classmethod from_json() to restore\u001b[39;00m\n\u001b[0;32m    301\u001b[0m \u001b[38;5;66;03m# the object.\u001b[39;00m\n\u001b[1;32m--> 302\u001b[0m module_name \u001b[38;5;241m=\u001b[39m \u001b[43mdata\u001b[49m\u001b[43m[\u001b[49m\u001b[38;5;124;43m'\u001b[39;49m\u001b[38;5;124;43m_module\u001b[39;49m\u001b[38;5;124;43m'\u001b[39;49m\u001b[43m]\u001b[49m\n\u001b[0;32m    303\u001b[0m \u001b[38;5;28;01mtry\u001b[39;00m:\n\u001b[0;32m    304\u001b[0m     module_obj \u001b[38;5;241m=\u001b[39m \u001b[38;5;28m__import__\u001b[39m(module_name)\n",
      "\u001b[1;31mKeyError\u001b[0m: '_module'"
     ]
    }
   ],
   "source": [
    "from pydrive.drive import GoogleDrive\n",
    "from pydrive.auth import GoogleAuth\n",
    "\n",
    "\n",
    "gauth = GoogleAuth()\n",
    "gauth.LoadCredentialsFile(\"client_secrets.json\")\n",
    "drive = GoogleDrive(gauth)\n",
    "\n",
    "folder_id = \"1ZwkL67usiL3nRjMJIL5cad3Q0rtgYkes\"\n",
    "file_drive = drive.CreateFile({'id': folder_id})\n",
    "file_drive.SetContentFile(\"data_export_2025-02-14.xlsx\")\n",
    "file_drive.Upload()\n"
   ]
  },
  {
   "cell_type": "code",
   "execution_count": 1,
   "metadata": {},
   "outputs": [
    {
     "name": "stdout",
     "output_type": "stream",
     "text": [
      "Your browser has been opened to visit:\n",
      "\n",
      "    https://accounts.google.com/o/oauth2/auth?client_id=234340069058-scnm45mhgmiirjh43hrh6h3kejabteoc.apps.googleusercontent.com&redirect_uri=http%3A%2F%2Flocalhost%3A8080%2F&scope=https%3A%2F%2Fwww.googleapis.com%2Fauth%2Fdrive&access_type=offline&response_type=code\n",
      "\n",
      "Authentication successful.\n",
      "Autenticación exitosa\n"
     ]
    }
   ],
   "source": [
    "from pydrive.auth import GoogleAuth\n",
    "from pydrive.drive import GoogleDrive\n",
    "\n",
    "gauth = GoogleAuth()\n",
    "gauth.LocalWebserverAuth()  # Esto abre una ventana en el navegador para autenticación\n",
    "\n",
    "drive = GoogleDrive(gauth)\n",
    "print(\"Autenticación exitosa\")"
   ]
  },
  {
   "cell_type": "markdown",
   "metadata": {},
   "source": [
    "# REPOSTORIO DE DATA"
   ]
  },
  {
   "cell_type": "code",
   "execution_count": null,
   "metadata": {},
   "outputs": [],
   "source": [
    "data = CSV_FILENAME\n",
    "path = DRIVE.google.com/drive/folders/1p-pnBYYO8dbsGwkV7H0eirJZnzw9RIBx"
   ]
  },
  {
   "cell_type": "code",
   "execution_count": null,
   "metadata": {},
   "outputs": [],
   "source": [
    "a = 10\n",
    "b = 100\n",
    "c = 110\n"
   ]
  }
 ],
 "metadata": {
  "kernelspec": {
   "display_name": "Python 3",
   "language": "python",
   "name": "python3"
  },
  "language_info": {
   "codemirror_mode": {
    "name": "ipython",
    "version": 3
   },
   "file_extension": ".py",
   "mimetype": "text/x-python",
   "name": "python",
   "nbconvert_exporter": "python",
   "pygments_lexer": "ipython3",
   "version": "3.11.5"
  }
 },
 "nbformat": 4,
 "nbformat_minor": 2
}
